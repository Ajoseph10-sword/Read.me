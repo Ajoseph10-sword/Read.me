{
  "nbformat": 4,
  "nbformat_minor": 0,
  "metadata": {
    "colab": {
      "provenance": [],
      "authorship_tag": "ABX9TyO60+OtFTLN/1i1t3jPc0nC",
      "include_colab_link": true
    },
    "kernelspec": {
      "name": "python3",
      "display_name": "Python 3"
    },
    "language_info": {
      "name": "python"
    }
  },
  "cells": [
    {
      "cell_type": "markdown",
      "metadata": {
        "id": "view-in-github",
        "colab_type": "text"
      },
      "source": [
        "<a href=\"https://colab.research.google.com/github/Ajoseph10-sword/social-coding-portfolio/blob/main/Finalactivity3.ipynb\" target=\"_parent\"><img src=\"https://colab.research.google.com/assets/colab-badge.svg\" alt=\"Open In Colab\"/></a>"
      ]
    },
    {
      "cell_type": "markdown",
      "source": [
        "***Warriors: Quest of Gods***"
      ],
      "metadata": {
        "id": "1jQ8cG9RT0yv"
      }
    },
    {
      "cell_type": "markdown",
      "source": [
        "Part 1 : **Choose Your God**"
      ],
      "metadata": {
        "id": "EV7UanmfT4gM"
      }
    },
    {
      "cell_type": "code",
      "execution_count": 12,
      "metadata": {
        "colab": {
          "base_uri": "https://localhost:8080/"
        },
        "id": "yN8vOhKfSJAW",
        "outputId": "e28091e4-53a3-415c-e086-07722d9790c9"
      },
      "outputs": [
        {
          "output_type": "stream",
          "name": "stdout",
          "text": [
            "Welcome to JumpLand !\n",
            "Here we have many gods and dieties from different pantheons all across the universe\n",
            "Who do you choose? 'Wukong', 'Thor', or 'Kratos'? Kratos\n",
            "You chose 'Kratos', the wrathful God of War\n",
            "The former Spartan turned god is revengeful and begins his goal for the destruction of Olympus\n",
            "Wields the Blades of Chaos and his never-ending quest for vengeance\n",
            "Are you ready ? Yes\n",
            "Lets go, 'Kratos' \n"
          ]
        }
      ],
      "source": [
        "print('Welcome to JumpLand !')\n",
        "print('Here we have many gods and dieties from different pantheons all across the universe')\n",
        "choice0 = input(\"Who do you choose? 'Wukong', 'Thor', or 'Kratos'? \")\n",
        "\n",
        "if choice0 == 'Wukong':\n",
        "    print(\"You chose 'Wukong', the Great Sage Who Equals All Of Heaven\")\n",
        "    print(\"The Immortal Monkey King is rebellious by nature but has the strength to rival heavens\")\n",
        "    print(\"Wields his unbreakable staff Ruyi Jingu Bang and the ability to shapeshift and cloud-walking\")\n",
        "    action = input(\"Are you ready ? \")\n",
        "    if action == \"Yes\":\n",
        "      print(\"Let's go, 'Wukong' \")\n",
        "\n",
        "elif choice0 == 'Thor':\n",
        "   print(\"You chose 'Thor', the powerful God of Thunder\")\n",
        "   print(\"The Son of Odin is prideful and mighty but also lives for the thrill of battle\")\n",
        "   print(\"Wields his legendary hammer Mjolnir and the abiliy to call lighting \")\n",
        "   action = input(\"Are you ready ? \")\n",
        "   if action == \"Yes\":\n",
        "      print(\"Let's go, 'Thor' \")\n",
        "\n",
        "elif choice0 == 'Kratos':\n",
        "    print(\"You chose 'Kratos', the wrathful God of War\")\n",
        "    print(\"The former Spartan turned god is revengeful and begins his goal for the destruction of Olympus\")\n",
        "    print(\"Wields the Blades of Chaos and his never-ending quest for vengeance\")\n",
        "    action = input(\"Are you ready ? \")\n",
        "    if action == \"Yes\":\n",
        "       print(\"Lets go, 'Kratos' \")"
      ]
    },
    {
      "cell_type": "markdown",
      "source": [
        "⚔ **The Adventure Begins** ⚔"
      ],
      "metadata": {
        "id": "jEztD0obZF7P"
      }
    },
    {
      "cell_type": "code",
      "source": [
        "print(\"As the player begins their journey, they meet a dangerous dragon attacking a village\")\n",
        "choice0 = input(\"What is your decision? 'Attack the dragon' or 'Ignore it' ? \")\n",
        "\n",
        "if choice0 == 'Attack the dragon':\n",
        "  print(\"You attacked the dragon with your godly weapon, killing it in one blow!\")\n",
        "  print(\"The mortals thank you for saving them\")\n",
        "  print(\"But it turns out, the dragon was the pet of a fellow god from a different pantheon\")\n",
        "  action = input(\"Now that fellow god is angry and brings his whole pantheon to eliminate you. Do you fight back? \")\n",
        "  if action == 'yes':\n",
        "   print(\"You fight all of the gods and defeated them with not that much of a difficulty\")\n",
        "  print(\"Ending 1: You continue on your journey as a powerful god who is rivaled by none!\")\n",
        "  if action == \"no\":\n",
        "   print(\"As a result, you lose the battle against the rival gods and is sent back home with shame\")\n",
        "  print(\"Ending 3: Come on, at least fight back! \")\n",
        "\n",
        "elif choice0 == 'Ignore it':\n",
        "    print(\"You ignored the dragon and now all of the mortals within the village are dead \")\n",
        "    print(\"Ending 2: You are a terrible god ... dude, even Hades was not that cruel, and he ruled the Underworld ! \")"
      ],
      "metadata": {
        "colab": {
          "base_uri": "https://localhost:8080/"
        },
        "id": "-zC2fbTsZEl0",
        "outputId": "df515505-1d0c-448f-d507-f03790711a40"
      },
      "execution_count": 2,
      "outputs": [
        {
          "output_type": "stream",
          "name": "stdout",
          "text": [
            "As the player begins their journey, they meet a dangerous dragon attacking a village\n",
            "What is your decision? 'Attack the dragon' or 'Ignore it' ? Attack the dragon\n",
            "You attacked the dragon with your godly weapon, killing it in one blow!\n",
            "The mortals thank you for saving them\n",
            "But it turns out, the dragon was the pet of a fellow god from a different pantheon\n",
            "Now that fellow god is angry and brings his whole pantheon to eliminate you. Do you fight back?yes\n",
            "You fight all of the gods and defeated them with not that much of a difficulty\n",
            "Ending 1: You continue on your journey as a powerful god who is rivaled by none!\n",
            "Ending 3: Come on, at least fight back! \n"
          ]
        }
      ]
    }
  ]
}